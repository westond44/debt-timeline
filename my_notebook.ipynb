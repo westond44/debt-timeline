{
 "cells": [
  {
   "cell_type": "code",
   "execution_count": 1,
   "metadata": {},
   "outputs": [
    {
     "ename": "NameError",
     "evalue": "name 'plt' is not defined",
     "output_type": "error",
     "traceback": [
      "\u001b[0;31m---------------------------------------------------------------------------\u001b[0m",
      "\u001b[0;31mNameError\u001b[0m                                 Traceback (most recent call last)",
      "\u001b[1;32m/Users/westondorough/debt-timeline/debt-timeline/my_notebook.ipynb Cell 1\u001b[0m line \u001b[0;36m2\n\u001b[1;32m      <a href='vscode-notebook-cell:/Users/westondorough/debt-timeline/debt-timeline/my_notebook.ipynb#W0sZmlsZQ%3D%3D?line=0'>1</a>\u001b[0m \u001b[39m# Create a figure for the plot\u001b[39;00m\n\u001b[0;32m----> <a href='vscode-notebook-cell:/Users/westondorough/debt-timeline/debt-timeline/my_notebook.ipynb#W0sZmlsZQ%3D%3D?line=1'>2</a>\u001b[0m plt\u001b[39m.\u001b[39mfigure(figsize\u001b[39m=\u001b[39m(\u001b[39m10\u001b[39m, \u001b[39m8\u001b[39m))\n\u001b[1;32m      <a href='vscode-notebook-cell:/Users/westondorough/debt-timeline/debt-timeline/my_notebook.ipynb#W0sZmlsZQ%3D%3D?line=3'>4</a>\u001b[0m \u001b[39m# Plot each event on the timeline\u001b[39;00m\n\u001b[1;32m      <a href='vscode-notebook-cell:/Users/westondorough/debt-timeline/debt-timeline/my_notebook.ipynb#W0sZmlsZQ%3D%3D?line=4'>5</a>\u001b[0m \u001b[39mfor\u001b[39;00m i, (event, date) \u001b[39min\u001b[39;00m \u001b[39menumerate\u001b[39m(\u001b[39mzip\u001b[39m(events, dates)):\n",
      "\u001b[0;31mNameError\u001b[0m: name 'plt' is not defined"
     ]
    }
   ],
   "source": [
    "# Create a figure for the plot\n",
    "plt.figure(figsize=(10, 8))\n",
    "\n",
    "# Plot each event on the timeline\n",
    "for i, (event, date) in enumerate(zip(events, dates)):\n",
    "    plt.plot(date, i, \"o\", markersize=10, label=event)\n",
    "    plt.text(date, i, f\" {event}\", va='center', ha='right')\n",
    "\n",
    "# Set the y-ticks to the dates for clarity\n",
    "plt.yticks(range(len(events)), [date.strftime(\"%Y-%m-%d\") for date in dates])\n",
    "plt.xlabel('Date')\n",
    "plt.title('Timeline of Unsecured Debt')\n",
    "plt.grid(True)\n",
    "plt.tight_layout()\n",
    "\n",
    "# Display the plot\n",
    "plt.show()\n",
    "\n"
   ]
  }
 ],
 "metadata": {
  "kernelspec": {
   "display_name": ".venv",
   "language": "python",
   "name": "python3"
  },
  "language_info": {
   "codemirror_mode": {
    "name": "ipython",
    "version": 3
   },
   "file_extension": ".py",
   "mimetype": "text/x-python",
   "name": "python",
   "nbconvert_exporter": "python",
   "pygments_lexer": "ipython3",
   "version": "3.12.4"
  },
  "orig_nbformat": 4
 },
 "nbformat": 4,
 "nbformat_minor": 2
}
